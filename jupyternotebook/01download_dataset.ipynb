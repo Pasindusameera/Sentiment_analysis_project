{
 "cells": [
  {
   "cell_type": "code",
   "execution_count": 1,
   "metadata": {},
   "outputs": [],
   "source": [
    "import numpy as np"
   ]
  },
  {
   "cell_type": "code",
   "execution_count": 2,
   "metadata": {},
   "outputs": [],
   "source": [
    "import json\n",
    "with open('../artifacts/kaggle.json','r')as file:\n",
    "    data=json.load(file)"
   ]
  },
  {
   "cell_type": "code",
   "execution_count": 3,
   "metadata": {},
   "outputs": [
    {
     "data": {
      "text/plain": [
       "{'username': 'pasinduperera878', 'key': '98743ab1335b016e1f4a50c807e423ee'}"
      ]
     },
     "execution_count": 3,
     "metadata": {},
     "output_type": "execute_result"
    }
   ],
   "source": [
    " data"
   ]
  },
  {
   "cell_type": "code",
   "execution_count": 4,
   "metadata": {},
   "outputs": [
    {
     "name": "stdout",
     "output_type": "stream",
     "text": [
      "Collecting kaggle\n",
      "  Downloading kaggle-1.5.15.tar.gz (77 kB)\n",
      "                                              0.0/77.9 kB ? eta -:--:--\n",
      "     ---------                              20.5/77.9 kB 682.7 kB/s eta 0:00:01\n",
      "     -------------------                    41.0/77.9 kB 495.5 kB/s eta 0:00:01\n",
      "     -----------------------------          61.4/77.9 kB 544.7 kB/s eta 0:00:01\n",
      "     -------------------------------------- 77.9/77.9 kB 433.9 kB/s eta 0:00:00\n",
      "  Installing build dependencies: started\n",
      "  Installing build dependencies: finished with status 'done'\n",
      "  Getting requirements to build wheel: started\n",
      "  Getting requirements to build wheel: finished with status 'done'\n",
      "  Preparing metadata (pyproject.toml): started\n",
      "  Preparing metadata (pyproject.toml): finished with status 'done'\n",
      "Requirement already satisfied: six>=1.10 in c:\\users\\dell\\appdata\\roaming\\python\\python311\\site-packages (from kaggle) (1.16.0)\n",
      "Collecting certifi (from kaggle)\n",
      "  Downloading certifi-2023.5.7-py3-none-any.whl (156 kB)\n",
      "                                              0.0/157.0 kB ? eta -:--:--\n",
      "     --                                       10.2/157.0 kB ? eta -:--:--\n",
      "     ---------                             41.0/157.0 kB 495.5 kB/s eta 0:00:01\n",
      "     -------------------                   81.9/157.0 kB 573.4 kB/s eta 0:00:01\n",
      "     ---------------------                 92.2/157.0 kB 525.1 kB/s eta 0:00:01\n",
      "     -------------------------            112.6/157.0 kB 547.6 kB/s eta 0:00:01\n",
      "     -------------------------            112.6/157.0 kB 547.6 kB/s eta 0:00:01\n",
      "     -------------------------            112.6/157.0 kB 547.6 kB/s eta 0:00:01\n",
      "     -----------------------------------  153.6/157.0 kB 399.3 kB/s eta 0:00:01\n",
      "     ------------------------------------ 157.0/157.0 kB 391.3 kB/s eta 0:00:00\n",
      "Requirement already satisfied: python-dateutil in c:\\users\\dell\\appdata\\roaming\\python\\python311\\site-packages (from kaggle) (2.8.2)\n",
      "Collecting requests (from kaggle)\n",
      "  Downloading requests-2.31.0-py3-none-any.whl (62 kB)\n",
      "                                              0.0/62.6 kB ? eta -:--:--\n",
      "     ------                                   10.2/62.6 kB ? eta -:--:--\n",
      "     ------------------                     30.7/62.6 kB 325.1 kB/s eta 0:00:01\n",
      "     -------------------------------------  61.4/62.6 kB 465.5 kB/s eta 0:00:01\n",
      "     -------------------------------------- 62.6/62.6 kB 418.7 kB/s eta 0:00:00\n",
      "Collecting tqdm (from kaggle)\n",
      "  Downloading tqdm-4.65.0-py3-none-any.whl (77 kB)\n",
      "                                              0.0/77.1 kB ? eta -:--:--\n",
      "     ---------------                        30.7/77.1 kB 435.7 kB/s eta 0:00:01\n",
      "     ---------------                        30.7/77.1 kB 435.7 kB/s eta 0:00:01\n",
      "     -------------------------------------- 77.1/77.1 kB 534.8 kB/s eta 0:00:00\n",
      "Collecting python-slugify (from kaggle)\n",
      "  Downloading python_slugify-8.0.1-py2.py3-none-any.whl (9.7 kB)\n",
      "Collecting urllib3 (from kaggle)\n",
      "  Downloading urllib3-2.0.3-py3-none-any.whl (123 kB)\n",
      "                                              0.0/123.6 kB ? eta -:--:--\n",
      "     ---------                             30.7/123.6 kB 660.6 kB/s eta 0:00:01\n",
      "     ------------------                    61.4/123.6 kB 544.7 kB/s eta 0:00:01\n",
      "     ------------------------              81.9/123.6 kB 573.4 kB/s eta 0:00:01\n",
      "     ------------------------------------ 123.6/123.6 kB 558.5 kB/s eta 0:00:00\n",
      "Requirement already satisfied: bleach in c:\\users\\dell\\pythoninstall\\lib\\site-packages (from kaggle) (6.0.0)\n",
      "Requirement already satisfied: webencodings in c:\\users\\dell\\pythoninstall\\lib\\site-packages (from bleach->kaggle) (0.5.1)\n",
      "Collecting text-unidecode>=1.3 (from python-slugify->kaggle)\n",
      "  Downloading text_unidecode-1.3-py2.py3-none-any.whl (78 kB)\n",
      "                                              0.0/78.2 kB ? eta -:--:--\n",
      "     -----                                    10.2/78.2 kB ? eta -:--:--\n",
      "     -------------------                    41.0/78.2 kB 495.5 kB/s eta 0:00:01\n",
      "     -------------------------------------- 78.2/78.2 kB 543.3 kB/s eta 0:00:00\n",
      "Collecting charset-normalizer<4,>=2 (from requests->kaggle)\n",
      "  Downloading charset_normalizer-3.2.0-cp311-cp311-win_amd64.whl (96 kB)\n",
      "                                              0.0/96.6 kB ? eta -:--:--\n",
      "     ----                                     10.2/96.6 kB ? eta -:--:--\n",
      "     ----------------                       41.0/96.6 kB 495.5 kB/s eta 0:00:01\n",
      "     ------------------------               61.4/96.6 kB 469.7 kB/s eta 0:00:01\n",
      "     --------------------------------       81.9/96.6 kB 573.4 kB/s eta 0:00:01\n",
      "     -------------------------------------- 96.6/96.6 kB 461.6 kB/s eta 0:00:00\n",
      "Requirement already satisfied: idna<4,>=2.5 in c:\\users\\dell\\pythoninstall\\lib\\site-packages (from requests->kaggle) (3.4)\n",
      "Requirement already satisfied: colorama in c:\\users\\dell\\appdata\\roaming\\python\\python311\\site-packages (from tqdm->kaggle) (0.4.6)\n",
      "Building wheels for collected packages: kaggle\n",
      "  Building wheel for kaggle (pyproject.toml): started\n",
      "  Building wheel for kaggle (pyproject.toml): finished with status 'done'\n",
      "  Created wheel for kaggle: filename=kaggle-1.5.15-py3-none-any.whl size=99616 sha256=de67d47727d3ca476d468441df4362318802fc43543b745d6bcd5e92687b4836\n",
      "  Stored in directory: c:\\users\\dell\\appdata\\local\\pip\\cache\\wheels\\fc\\d0\\b9\\e25b168e81502b15b081bec5459179e701653ced72d2abf215\n",
      "Successfully built kaggle\n",
      "Installing collected packages: text-unidecode, urllib3, tqdm, python-slugify, charset-normalizer, certifi, requests, kaggle\n",
      "Successfully installed certifi-2023.5.7 charset-normalizer-3.2.0 kaggle-1.5.15 python-slugify-8.0.1 requests-2.31.0 text-unidecode-1.3 tqdm-4.65.0 urllib3-2.0.3\n"
     ]
    }
   ],
   "source": [
    "!pip install kaggle"
   ]
  },
  {
   "cell_type": "code",
   "execution_count": 26,
   "metadata": {},
   "outputs": [],
   "source": [
    "import os\n",
    "os.environ['KAGGLE_USERNAME'] =data['username']\n",
    "os.environ['KAGGLE_KEY']=data['key']"
   ]
  },
  {
   "cell_type": "code",
   "execution_count": 31,
   "metadata": {},
   "outputs": [],
   "source": [
    "from kaggle.api.kaggle_api_extended import KaggleApi\n",
    "api=KaggleApi()\n",
    "api.authenticate()"
   ]
  },
  {
   "cell_type": "code",
   "execution_count": 34,
   "metadata": {},
   "outputs": [],
   "source": [
    "api.dataset_download_files('dineshpiyasamara/sentiment-analysis-dataset', path='../artifacts/')"
   ]
  },
  {
   "cell_type": "code",
   "execution_count": 40,
   "metadata": {},
   "outputs": [],
   "source": [
    "import zipfile\n",
    "with zipfile.ZipFile('../artifacts/sentiment-analysis-dataset.zip', 'r') as zip_ref:\n",
    "    zip_ref.extractall('../artifacts/')\n"
   ]
  },
  {
   "cell_type": "code",
   "execution_count": null,
   "metadata": {},
   "outputs": [],
   "source": []
  }
 ],
 "metadata": {
  "kernelspec": {
   "display_name": "Python 3 (ipykernel)",
   "language": "python",
   "name": "python3"
  },
  "language_info": {
   "codemirror_mode": {
    "name": "ipython",
    "version": 3
   },
   "file_extension": ".py",
   "mimetype": "text/x-python",
   "name": "python",
   "nbconvert_exporter": "python",
   "pygments_lexer": "ipython3",
   "version": "3.11.4"
  }
 },
 "nbformat": 4,
 "nbformat_minor": 2
}
